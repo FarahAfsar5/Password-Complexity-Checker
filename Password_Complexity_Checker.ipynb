{
  "nbformat": 4,
  "nbformat_minor": 0,
  "metadata": {
    "colab": {
      "provenance": []
    },
    "kernelspec": {
      "name": "python3",
      "display_name": "Python 3"
    },
    "language_info": {
      "name": "python"
    }
  },
  "cells": [
    {
      "cell_type": "code",
      "execution_count": null,
      "metadata": {
        "colab": {
          "base_uri": "https://localhost:8080/"
        },
        "id": "v8O0jwXbuxfJ",
        "outputId": "80e8a761-172f-410b-ff9d-f8ed9ac43620"
      },
      "outputs": [
        {
          "output_type": "stream",
          "name": "stdout",
          "text": [
            "🔐 Password Rules:\n",
            "1️⃣ Minimum 8 characters long\n",
            "2️⃣ At least one uppercase letter (A-Z)\n",
            "3️⃣ At least one lowercase letter (a-z)\n",
            "4️⃣ At least one digit (0-9)\n",
            "5️⃣ At least one special character (!@#$%^&*)\n",
            "==================================================\n",
            "👉 Enter your password: Subhan\n",
            "\n",
            "Password Strength: Weak ❌\n",
            "\n",
            "⚠️ Suggestions to improve:\n",
            "  - ❌ Password should be at least 8 characters long\n",
            "  - ❌ Add at least one number\n",
            "  - ❌ Add at least one special character (!@#$%^&*)\n"
          ]
        }
      ],
      "source": [
        "# ============================================\n",
        "# Task-03: Password Complexity Checker\n",
        "# (User Input + Show Rules)\n",
        "# ============================================\n",
        "\n",
        "import re\n",
        "\n",
        "def check_password_strength(password):\n",
        "    # Criteria checks\n",
        "    length_error = len(password) < 8\n",
        "    uppercase_error = re.search(r\"[A-Z]\", password) is None\n",
        "    lowercase_error = re.search(r\"[a-z]\", password) is None\n",
        "    digit_error = re.search(r\"[0-9]\", password) is None\n",
        "    special_error = re.search(r\"[!@#$%^&*(),.?\\\":{}|<>]\", password) is None\n",
        "\n",
        "    # Count how many criteria are met\n",
        "    errors = [length_error, uppercase_error, lowercase_error, digit_error, special_error]\n",
        "    score = 5 - sum(errors)\n",
        "\n",
        "    # Feedback\n",
        "    feedback = []\n",
        "    if length_error:\n",
        "        feedback.append(\"❌ Password should be at least 8 characters long\")\n",
        "    if uppercase_error:\n",
        "        feedback.append(\"❌ Add at least one uppercase letter\")\n",
        "    if lowercase_error:\n",
        "        feedback.append(\"❌ Add at least one lowercase letter\")\n",
        "    if digit_error:\n",
        "        feedback.append(\"❌ Add at least one number\")\n",
        "    if special_error:\n",
        "        feedback.append(\"❌ Add at least one special character (!@#$%^&*)\")\n",
        "\n",
        "    # Strength levels\n",
        "    if score == 5:\n",
        "        strength = \"Very Strong ✅\"\n",
        "    elif score == 4:\n",
        "        strength = \"Strong ✅\"\n",
        "    elif score == 3:\n",
        "        strength = \"Medium ⚠️\"\n",
        "    else:\n",
        "        strength = \"Weak ❌\"\n",
        "\n",
        "    return strength, feedback\n",
        "\n",
        "# ==========================\n",
        "# Show Rules\n",
        "# ==========================\n",
        "print(\"🔐 Password Rules:\")\n",
        "print(\"1️⃣ Minimum 8 characters long\")\n",
        "print(\"2️⃣ At least one uppercase letter (A-Z)\")\n",
        "print(\"3️⃣ At least one lowercase letter (a-z)\")\n",
        "print(\"4️⃣ At least one digit (0-9)\")\n",
        "print(\"5️⃣ At least one special character (!@#$%^&*)\")\n",
        "print(\"=\"*50)\n",
        "\n",
        "# ==========================\n",
        "# User Input\n",
        "# ==========================\n",
        "password = input(\"👉 Enter your password: \")\n",
        "\n",
        "strength, feedback = check_password_strength(password)\n",
        "\n",
        "print(\"\\nPassword Strength:\", strength)\n",
        "if feedback:\n",
        "    print(\"\\n⚠️ Suggestions to improve:\")\n",
        "    for f in feedback:\n",
        "        print(\"  -\", f)\n",
        "else:\n",
        "    print(\"✅ Your password meets all security requirements!\")\n",
        "\n"
      ]
    }
  ]
}